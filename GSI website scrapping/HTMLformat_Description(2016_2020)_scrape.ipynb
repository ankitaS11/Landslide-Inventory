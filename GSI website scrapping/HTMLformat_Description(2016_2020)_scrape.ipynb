{
  "nbformat": 4,
  "nbformat_minor": 0,
  "metadata": {
    "kernelspec": {
      "display_name": "Python 3",
      "language": "python",
      "name": "python3"
    },
    "language_info": {
      "codemirror_mode": {
        "name": "ipython",
        "version": 3
      },
      "file_extension": ".py",
      "mimetype": "text/x-python",
      "name": "python",
      "nbconvert_exporter": "python",
      "pygments_lexer": "ipython3",
      "version": "3.8.3"
    },
    "colab": {
      "name": "HTMLformat Description(2016-2020)_scrape.ipynb",
      "provenance": [],
      "collapsed_sections": []
    }
  },
  "cells": [
    {
      "cell_type": "markdown",
      "metadata": {
        "id": "9gq7g8e4HyVV"
      },
      "source": [
        "<h3><b> Geological Survey of India ( GSI ) </b></h3>\n",
        "\n",
        "https://www.gsi.gov.in/webcenter/portal/OCBIS/pageQuickLinks/pageLandslideIncidents?_adf.ctrl-state=4x41ecr4w_1&_afrLoop=22683838805534652"
      ]
    },
    {
      "cell_type": "markdown",
      "metadata": {
        "id": "wgaKbZdSOtHH"
      },
      "source": [
        "<H2><b> Scrapping Landslide Description 2016 - 2020  </H2></b>"
      ]
    },
    {
      "cell_type": "code",
      "metadata": {
        "id": "qp7GU91BG-IR"
      },
      "source": [
        "import pandas as pd\n",
        "import requests\n",
        "from bs4 import BeautifulSoup"
      ],
      "execution_count": null,
      "outputs": []
    },
    {
      "cell_type": "code",
      "metadata": {
        "id": "RKiAzQXRG-IT"
      },
      "source": [
        "from bs4 import BeautifulSoup as soup\n",
        "from urllib.request import urlopen as uReq"
      ],
      "execution_count": null,
      "outputs": []
    },
    {
      "cell_type": "code",
      "metadata": {
        "id": "kd2DAO2hG-IU"
      },
      "source": [
        "my_url = 'https://www.gsi.gov.in/webcenter/portal/OCBIS/pageQuickLinks/pageLandslideIncidents?_adf.ctrl-state=ogl93k08h_1&_afrLoop=22162799097188376#!%40%40%3F_afrLoop%3D22162799097188376%26_adf.ctrl-state%3Dogl93k08h_5'"
      ],
      "execution_count": null,
      "outputs": []
    },
    {
      "cell_type": "code",
      "metadata": {
        "colab": {
          "base_uri": "https://localhost:8080/"
        },
        "id": "aInhltd7G-IU",
        "outputId": "9c7cb44f-5da9-42f9-984a-c6b55eba2c2e"
      },
      "source": [
        "# make HTTP GET request to the target URL\n",
        "print('HTTP GET: %s', my_url)\n",
        "response = requests.get(my_url)"
      ],
      "execution_count": null,
      "outputs": [
        {
          "output_type": "stream",
          "text": [
            "HTTP GET: %s https://www.gsi.gov.in/webcenter/portal/OCBIS/pageQuickLinks/pageLandslideIncidents?_adf.ctrl-state=ogl93k08h_1&_afrLoop=22162799097188376#!%40%40%3F_afrLoop%3D22162799097188376%26_adf.ctrl-state%3Dogl93k08h_5\n"
          ],
          "name": "stdout"
        }
      ]
    },
    {
      "cell_type": "code",
      "metadata": {
        "id": "_G10YokiG-IV"
      },
      "source": [
        "# parse content\n",
        "content = soup(response.text, 'lxml')"
      ],
      "execution_count": null,
      "outputs": []
    },
    {
      "cell_type": "code",
      "metadata": {
        "id": "YxbD9btBG-IV"
      },
      "source": [
        "# Getting all the lnks\n",
        "all_urls = content.find_all('a')"
      ],
      "execution_count": null,
      "outputs": []
    },
    {
      "cell_type": "code",
      "metadata": {
        "id": "eDeThfXRG-IV"
      },
      "source": [
        "# loop over all URLs\n",
        "list_url = []\n",
        "for my_url in all_urls:\n",
        "    # try URLs containing 'href' attribute\n",
        "    try:\n",
        "        # pick up only those URLs containing 'landslide incidence <year>'\n",
        "        # within 'href' attribute\n",
        "        if 'https://www.gsi.gov.in/webcenter/portal/OCBIS/pageQuickLinks' in my_url['href']:\n",
        "                list_url.append(my_url['href'])\n",
        "        \n",
        "    except:\n",
        "        pass "
      ],
      "execution_count": null,
      "outputs": []
    },
    {
      "cell_type": "code",
      "metadata": {
        "colab": {
          "base_uri": "https://localhost:8080/"
        },
        "id": "a-9pziNcG-IW",
        "outputId": "0f4a4e91-4463-48cf-f660-e40493f36dec"
      },
      "source": [
        "list_url"
      ],
      "execution_count": null,
      "outputs": [
        {
          "output_type": "execute_result",
          "data": {
            "text/plain": [
              "['https://www.gsi.gov.in/webcenter/portal/OCBIS/pageQuickLinks/pageLandslideIncidents2020',\n",
              " 'https://www.gsi.gov.in/webcenter/portal/OCBIS/pageQuickLinks/pageLandslideIncidents19',\n",
              " 'https://www.gsi.gov.in/webcenter/portal/OCBIS/pageQuickLinks/pageLandSlideIncident18',\n",
              " 'https://www.gsi.gov.in/webcenter/portal/OCBIS/pageQuickLinks/pageLandslideIncidents17',\n",
              " 'https://www.gsi.gov.in/webcenter/portal/OCBIS/pageQuickLinks/pageLandslideIncidents16']"
            ]
          },
          "metadata": {
            "tags": []
          },
          "execution_count": 10
        }
      ]
    },
    {
      "cell_type": "code",
      "metadata": {
        "id": "OzCHuUs-HYjs"
      },
      "source": [
        "list_ = []\n",
        "for url in list_url:\n",
        "    uClient = uReq(url)\n",
        "    page_html = uClient.read()\n",
        "    uClient.close()\n",
        "    page_soup = soup(page_html,\"html.parser\")\n",
        "    start = page_soup.findAll('li')\n",
        "    facts = start[272:500]\n",
        "    for tag in facts:\n",
        "        fact = tag.text\n",
        "        list_.append(fact)\n",
        "        continue"
      ],
      "execution_count": null,
      "outputs": []
    },
    {
      "cell_type": "code",
      "metadata": {
        "colab": {
          "base_uri": "https://localhost:8080/"
        },
        "id": "nk50_l8_Iyg9",
        "outputId": "4fcdb9b0-3416-4ccf-8c89-b51bf971df97"
      },
      "source": [
        "list_"
      ],
      "execution_count": null,
      "outputs": [
        {
          "output_type": "execute_result",
          "data": {
            "text/plain": [
              "['',\n",
              " 'Landslide at TNEB Colony, Emerald, Nilgiri District, Tamil Nadu (06th August, 2020)\\r\\n\\n\\nA landslide (earth-flow) occurred near the TNEB colony, Emerald, Kundah Taluk, Nilgiri district, Tamil Nadu, after a spell of heavy rainfall of about 34.6 cm (for the period ending 24 hrs. on 7th August 2020). As a result, four houses were damaged due to the debris flow. However, many small-scale landslips were also recorded in the area. The slide (Lat: 11°19\\'14.94\"N and Lon: 76°37\\'31.34\"E) is a complex slide, which initiated as a cut slope failure and the subsequently leading to the earth flow. Ground cracks ranging from 5-10 cm were observed in the close vicinity of the slide, which also indicates chances of future reactivation, if untreated. Ground subsidence of about 1 m was observed in the slide zone. ',\n",
              " 'Landslide at Talacauvery, Bhagamandala, Kodagu District, Karnataka (06th August, 2020)\\r\\n\\n\\n\\r\\nThe landslide in Talacauvery has occurred on 06th August, 2020 at at 02:30 am, on a day of heavy rain, near Talacauvery Temple on Brahmagiri hills near Bhagamandala in Kodagu district, Karnataka along the approach road to the temple. Talacauvery, the place from where Cauvery River originates is an important pilgrim and tourist centre. The area is situated 43.5 km east of Madikeri town. It is a reactivated slide and it was first initiated during the year 2007. The present slide got reactivated on 06th August, 2020 due to intense rainfall covering part of the old slide zone (2007). It can be inferred that the Talacauvery landslide underwent four episodes of events i.e. on the year 2007, 2018, 2019 and 2020. ',\n",
              " 'Landslide at Pettimudi, near Munnar, Idukki District, Kerala (06th August, 2020)\\r\\n\\n\\n\\r\\nA landslide occurred at Pettimudi, near Munnar, Idukki district, Kerala on 06th August, 2020 around 22:30hrs, due to heavy and incessant rainfall. As a result, four housing lines of tea garden workers (layams) of Kannan Devan Hill Plantations (KDHP) situated at the foot slope area of Rajamala Hill ranges, got buried under debris (more than 80 people lived). There were 66 casualties reported. The landslide (Lat: 10°10\\'18.10\"N and Lon: 77° 0\\'40.70\"E) initiated as shallow planar at rock-overburden contact and the distressed material was directed through the topographic hollow scouring entire material from both the flanks and flow path. It is inferred that the failure must have occurred / initiated at the head of a steep gulley / streamlet. ',\n",
              " 'Landslide in and around Longmai-Khumji Noney Area, Noney District, Manipur (June-July, 2020)\\r\\n\\n\\n\\r\\n The Longmai landslide (Lat: 24°51’19.3”N and Lon: 93°37’26.5”E) occurred during the last week of June, 2020, along the upslope of the NH-37, the Imphal- Jiribam road about 500 meters from Noney Bazar towards Imphal. The landslide occurred at the eastern flank (hill slope of 45° toward 130° at sliding zone) of NNE-SSW trending hill ridge. Cracks in the concrete house, the paved drain and the approached road are observed. It caused subsidence of 40 cm in the crown portion of the slide and 60 cm in the highway. Five number of houses were partially damaged due to this slide. The Khumji Noney Slide (Lat: 24°5’45.7”N and Lon: 93°37’26.6”E) occurred about 100 meters from Noney bazaar towards Jiribam on the NH-37, Imphal-Jiribam road. The area is represented by highly dissected, rugged, NNE-SSW trending alternate synclinal hill ridges and anticlinal valleys showing a 2nd order topography. Excessive cutting of the slope for construction of waiting shed and water seepage in the upslope portion are the geo-scientific causes. \\r\\n',\n",
              " 'Landslide around Mao Town, Senapati District, Manipur (July, 2020)\\r\\n\\n\\n\\r\\nThe Mao landslide (Lat: 25°30’57.3”N and Lon: 94°08’11.5”E) has affected an area of about 0.6 sq.km. posing immense risk to the critical road infrastructure and affecting the residential and commercial buildings along the NH-2 due to the development of tensional cracks and subsidence of the road bench. The present landslide affected area is part of the old-landslide zone, with thick unconsolidated/ semi consolidated debris above the in-situ bedrock. The landslide affected area has a very poor surface drainage management. During heavy rainfall during the month of June and July 2020, water flows over the road and remain stagnant within the depressions caused due to heavy vehicle movement with stagnant water along the road side-line concrete drainage. The transient downward water percolation on the road, steep and moderate steep slope, where the surface material is old-landslide debris has lead to the over-saturation of the underlying material.\\r\\n',\n",
              " 'Landslide at Tigdo Village, Papumpare District, Arunachal Pradesh (10th July, 2020)\\r\\n\\n\\n\\r\\nA landslide occurred at Tigdo Village under Doimukh circle, Papumpare district, at around 2:30 am on 10.07.2020, due to heavy rain. As a result of the landslide, a house was totally damaged and 4 persons of a family buried and causes loss of property. The main causative factor is the continuous heavy rainfall resulting in subsurface percolation of rainwater and the build-up of undesirable pore pressure in overburden material. Anthropogenic activities, such as deforestation and high angle slope cutting, is also considered to be a causative factor.',\n",
              " 'Landslide at Donyi Colony, Papumpare District, Arunachal Pradesh (25th June, 2020)\\r\\n\\n\\n\\r\\nA landslide occurred at Donyi Colony, Itanagar, Papumpare district, Arunachal Pradesh, at around 8:12 am on 25.06.2020. The landslide (Lat: 27⁰ 04\\'52.7\"N and Lon: 93⁰ 36\\' 46.2\"E) is initiated due to the outward and downward movement of unstable slope material resulting into loss of life (a two-year-old child) and property. The main causative factor is attributed to the incessant heavy rainfall over the last few days which oversaturated the unconsolidated slope forming material of the Quaternary Period composed mostly of sand, silt and clay. Infiltration of the rainwater resulted in the development of pore water pressure and reduced shear strength parameters of the slope forming material, thereby causing the slope failure. Moreover, anthropogenic activities, such as deforestation and unplanned house and road construction practice also contributed to the slope instability. ',\n",
              " 'Landslide at Cachar, Hailakandi and Karimganj District, Assam (June, 2020)\\r\\n\\n\\n\\r\\nIn the first week of June 2020, several parts of Barak Valley comprising three districts of Assam viz., Cachar, Hailakandi and Karimganj were affected by eight (08) nos. of landslides triggered by incessant and heavy rainfall. The landslides are spread over four (04) Toposheets: two landslides, viz. Govindanagar Slide and Kanakpur Slide in Cachar District, falling in Toposheets No. 83 D/14 and 83 H/1 respectively; four landslides viz. Mohanpur Grant Slide 1, Mohanpur Grant Slide 2, Mohanpur Grant Slide 3 and Chandipur Slide in Hailakandi District falling in Toposheet No. 83 D/10; two landslides in Karimganj District, viz. Karimpur Slide 1 and Karimpur Slide 2, falling in Toposheets No. 83 D/5. Incessant and heavy rainfall from 24.05.2020 caused over-saturation of overburden material and led to rapid down slope movement of material along the cut slope faces. ',\n",
              " 'Landslide at Jowai, Kabi Village, West Jaintia Hills District, Meghalaya (26 May, 2020)\\r\\n\\n\\n\\r\\nEight numbers of landslides of varying dimensions has occurred on 26th May 2020 at different localities within the Jowai Township affecting the residential areas, as a result of the incessant rainfall in the preceding days. The primary triggering factor of the documented landslides is heavy antecedent rainfall which increased surface runoff beyond the drainage capacity of existing drainage system in the affected areas. No rockslide was documented during the investigation. The soil/debris in the affected slopes was super-saturated which increased the shear stress component leading to the failure.',\n",
              " 'Landslide at Dhare & Sitala, Kabi Village, North Sikkim District, Sikkim (24 May, 2020)\\r\\n\\n\\n\\r\\nTwo landslides occurred one each at Dhare and Sitala area, on 24th May 2020, 04 km away from Kabi Village towards Gangtok on North Sikkim Highway (NH 310A).  The coordinates of the Dhare landslide (Lat: 27° 23′ 55.2″N and Lon: 88° 37′ 24.9″E) and Sitala landslide (Lat: 27° 23′ 54.2″N and Lon: 88° 37′ 32.4″E) and falls in SOI Toposheet No.  78A/11. At both the landslide locations, it has been observed that the area mainly comprises of unconsolidated soil and debris material. No in-situ rock was observed in and around the area. These two landslides are located in close proximity of a NE-SW trending Regional Fault which is the major cause of concern. Excessive water saturation due to improper irrigation practice (Cardamom) cultivation reduces shear strength parameters of slope forming materials and makes slope prone to failure. Toe erosion by unplanned cutting of road section, as observed at both Dharey and Satala area, may also result in slope failure.',\n",
              " 'Landslide at Kabi Village, North Sikkim District, Sikkim (24 May, 2020)\\r\\n\\n\\n\\r\\nA landslide got reactivated on 24th May 2020, near upper Kabi Village area on the state highway, adjacent to the border between East and North Sikkim Districts of Sikkim, causing disruption of traffic.  The location is about 22 km from Gangtok on Gangtok- Mangan North Sikkim Highway via Phodong. The coordinates of this landslide are Lat: 27° 23′ 35″N and Lon: 88° 38′ 7″E and falls in SOI Toposheet No.  78A/11.  The landslide is characterized by wedge failure along with falling of bedrock material along a steep slope (>70°), due to the action of gravity and flow of water through weak planes, which resulted in the accumulation of huge amount of rock debris. ',\n",
              " 'Landslide at Mawlai-Umjapung, East Khasi Hills District, Meghalaya (21 May, 2020)\\r\\n\\n\\n\\r\\nA landslide occurred at Mawlai-Umjapung about 50 m East of NH-40 on 21st May 2020 around 1:00 pm. It was reported that the landslide had partially buried a house (Lat: 25° 37’ 12” N, Lon: 91° 52’ 57.8” E), when a retaining wall collapsed after incessant rainfall. About 20 m x 15 m area on the gently dipping slope has been affected by the slide. A poorly constructed retaining wall collapsed onto a house destroying it into debris. A family of five people have been rendered homeless. The slope, modified for settlement is composed of a thick overburden of highly oxidised cohesive clayey soil. Incessant and heavy rainfall has led to increase in pore water pressure on the weak retaining wall besides static load due to settlement above the failed portion resulted into the failure. ',\n",
              " '',\n",
              " 'Landslide at Bhandari Town, Wokha District, Nagaland (Nov 2019) \\r\\n\\n\\n\\r\\nA landslide was observed at about 2 km southeast of Bhandari Town (Lat: 26⁰ 16′ 35.3″ N, Lon: 94⁰ 07′ 54.3″ E), Wokha District, Nagaland during fieldwork by Officers of SU: Manipur & Nagaland in November, 2019. The landslide has occurred on the western slope of hill and multi-temporal Google-Earth image indicated that the slide was initiated in July, 2017 and then reactivated in 2018 and 2019. The road benches were prepared after 2017 landslide event, however, towards the end of 2018, the benches also collapsed. The slope angle is moderate 20°-25° and a breast wall at the toe part of the slope was also breached due to the landslide. The slide has blocked 110 m stretch of Wokha-Merapani road.',\n",
              " 'Landslide at NIT Campus, Dimapur District, Nagaland (26 Oct, 2019)\\r\\n\\n\\n\\r\\nA landslide had taken place on 26th October, 2019 on the north western flank of NIT campus, Dimapur, Nagaland, due to the continuous rainfall for consecutive two days. The area falls in the Survey of India toposheet no. 83G/13 (Lat: 25° 40\\' 54.34\" N, Lon: 94° 04\\' 5.23\" E). The slide had damaged the half constructed RCC building on the down slope while another two RCC buildings/ quarters belonging to NIT have been affected. The boundary wall of NIT along with sanitary provisions and water tank of the quarters were also damaged. The two RCC buildings/ quarters on the upslope area lie in the vicinity of the crown part of the slide. ',\n",
              " \"Landslide at Amiya Nagar, Chandmari and Nilachalpur Bezbzruah Nagar, Guwahati, Assam (10th & 16th  July 2019) \\r\\n\\n\\nDue to heavy rainfall from 10th to 17th July, 2019, two landslides occurred at Amiya Nagar, Chandmari and at Nilachalpur Bezbaruah Nagar, Guwahati, Assam.  On 10th July 2019, a part of the road along with the retaining wall collapsed, along the approach road to the hills, near Holy Child School, Chandmari and on 16th July 2019 a boundary wall collapsed at Nilachalpur, Bezbaruah Nagar (N 26° 09' 29.0'' & E 91° 42' 45.3'') and damaged a house. \",\n",
              " 'Landslide at Katahbari, Kamrup (M) District  (10th  July 2019) \\r\\n\\n\\n\\r\\nIncessant rain caused landslide  at Katahbari (N 26° 07\\' 5.4\" & E 91° 42\\' 47.9\") and buried one house. The landslide occurred in the cut slope in the formation of the house. The area has very thick overburden material consisting of in-situ soil and highly weathered rock. ',\n",
              " 'Landslide at Matia Pahar , Kamrup (M) District  (10th  July 2019) \\r\\n\\n\\n\\r\\nDue to heavy rainfall, rockslide occurred at  Matia Pahar (N 26° 06\\' 21.3\" & E 91° 37\\' 22.2\")., about 20km away from Guwahati city injuring one and affecting five persons. ',\n",
              " 'Landslide at BSUP Complex, Durtlang Leitan, Durtlang, Aizawl District, Aizawl (02nd  July 2019) \\r\\n\\n\\n\\r\\n Due to continues rainfall for an week, debris slide, at BSUP Complex (N 23° 46′ 19.4″ & E 92° 44′ 37.5″), 20kms NNE of Aizawl, occurred killing  three persons and injuring nine. Three pucca residential blocks of the top row of the BSUP Complex were severely damaged by the rock blocks and debris from the landslide, hitting the ground floor of the buildings from rear side. It resulted in severe damage and trapped the residents living in affected apartments. 18 families were evacuated from the housing complex. \\r\\n',\n",
              " 'Landslide at Siang, East District, Sikkim (June 2019)\\r\\n\\n\\n\\r\\nThe Siang rock slide occurred approximately at a distance of 20kms from Gangtok on the Gangtok-Rangpo-Siliguri National Highway-31 (N 27° 15’ 0.9’’ & E 88° 31’ 52.9”, SOI Toposheet No. 78A/11). The boulders from the landslide blocked the road disrupting traffic.\\r\\n',\n",
              " 'Landslide at Zhekhise, Dimapur District, Nagaland (9th May 2019) \\r\\n\\n\\n\\r\\nOn 9th May 2019, a landslide occurred in the river bank of the NE flowing Rengma River. The continuous rainfall in the preceding few days, because of Cyclone Fani, triggered the slide and erosion on the banks led to collapse of road.',\n",
              " 'Landslide at Palzor stadium road, near Tamang monastery, Gangtok, East District, Sikkim (23rd April 2019)\\r\\n\\n\\n\\r\\nOn 23rd April 2019, a shallow debris slide occurred at a location (N 27° 20’ 17.7” & E 88° 36’32.8’’), caused due to modification of the slope in the construction of a house. The slope failed because of oversaturation during the rainy season. It is a shallow translational slide having depth of failure surface at nearly 5m and is of 25m width and 40m length.',\n",
              " ' Landslide on Gangtok-Mangan road (Kabi-II) approximately 10km NW of Gangtok (31st March 2019)\\r\\n\\n\\n\\r\\nIncessant rain fall caused rock slide (N 27° 22’ 51.88” & E 88° 38’ 26.28”) along Gangtok-Mangan road disrupting the vehicular traffic along the road connecting Gangtok city to North Sikkim.  ',\n",
              " '',\n",
              " 'Landslides at Jorabat and Kharghuli areas of Guwahati , Assam (24th and 31st August 2018)\\r\\n\\n\\n\\r\\nIn Guwahati, Assam, heavy rainfall on 24th August 2018 caused landslides at Hastinapur and Sankardev Nagar in Jorabat area with 03 casualties and on 31st August 2018 a landslide in Kharguli area damaged infrastructures',\n",
              " 'Landslide incidence near transport Nagar, Jaipur, Rajasthan (19 August, 2018)\\r\\n\\n\\n\\r\\nRock slide/fall took place at about 15:30 hours due to  heavy spell of rainfall,  in Amagarh area (200-250 m south east of Jaipur-Delhi National Highway-8. This landslide caused death of one person, injuring six residents and damaged several houses located in the foothill zone of Amagarh Hill. The. The rain water percolation along the bedding joint/plane (abandoned quarry at the site daylighted the planes in the slope surface) had reduced the shear strength of strata along slope which resulted in rock fall/slide.',\n",
              " 'Landslides in Kodagu district, Karnataka (15th to 17th  August 2018)\\r\\n\\n\\n\\r\\nThe unprecedented heavy rainfall during 2018 in Kodagu district with 32% more than the average annual rainfall in last 20 years caused numerous landslides. The landslides caused nu loss of life, damaging property, infrastructure and communication lines. The communication line along Shiradi and Sampaje Roads connecting Mangalore with Bangalore was cut off. The note contains the study of 105 landslides in the region. All the landslides are triggerd by heavy and the major causes are modification of the natural slopes, blockage of natural drainage, water tanks / ponds in the slope and flash flood due to temporary dam formed by blockage of streams.',\n",
              " 'Landslide Incidences on NH-22, Solan district, Himachal Pradesh (13 and 14 August, 2018)\\r\\n\\n\\n\\r\\nHeavy rainfall triggered the initiation of new landslides and reactivated existing ones along NH-22 in  Solan district, Himachal Pradesh blocking and disrupting the traffic along NH22.\\r\\n',\n",
              " 'Landslide incidence at Upper Syari, Deorali-Gangtok, East district, Sikkim (10 August, 2018)\\r\\n\\n\\n\\r\\nA large crack was reported on 09.08.2018 on Upper Syari road, near Deorali, Gangtok, East District, Sikkim. The landslide located (27°18’57”N and 88°36’24”E) in the vicinity of the residential complex of Auditor General (AG), Sikkim was initiated on 10.08.2018.\\r\\n',\n",
              " 'Subsidence between unit location of 1st BN Sikkim Scouts and the road stretch (JNM axis) ahead of MS-8, Gangtok, East district, Sikkim (August 2018)\\r\\n\\n\\n\\r\\nDuring August 2018 subsidence occurred around “paleo-landslide near 1st BN Sikkim Scouts and the road stretch (JNM axis) ahead of MS-8 with development of 10-20m long cracks on roads, footpaths, culverts and on the floor of residential houses along with ground settlement.',\n",
              " 'Landslide incidence at Lokchao village, Tengnoupal District, Manipur (02 August 2018)\\r\\n\\n\\n\\r\\nExcessive rainfall triggered the Lokchao rockslide (24°19´31.6´´N, 94°13´57.3´´E) occurred along Imphal-Moreh Road [NH-102] on 2nd August, 2018 blocking the road. The main causes of the slide includes extensive slope cutting exposing 18m steep cut slope.',\n",
              " 'Landslide incidence near Kabi, border between East and North Disitrict, Sikkim  (2nd August 2018)\\r\\n\\n\\n\\r\\nOn 2nd  August 2018 incessant rainfall reactivated a landslide that occurred in mid-July along the state highway  about 22 km from Gangtok on Gangtok-Mangan road via Phoodong causing disruption of traffic. The landslide is a planner rock slide blocking the road for a week. ',\n",
              " 'Landslide incidence at Kalikhola, Kangpokpi District, Manipur ( 23 July 2018)\\r\\n\\n\\n\\r\\nHeavy rainfall triggered reactivation of Kalikhola landslide at Kangpokpi District, Manipur. A second landslide also was initiated in its vicinity. The debris from these adjacent landslides damaged a village foot track and blocked a nala (Kali Lok) resulting in formation of a small lake along the river.',\n",
              " 'Landslide incidence at New Salem, New Kanan and Neigailong villages of Tamenglong District, Manipur (11th July 2018)\\r\\n\\n\\n\\r\\nHeavy rainfall triggered landslides at New Salem, New Kanan and Neigailong villages of Tamenglong  district on 11th July 2018 with reported loss of nine lives (two in New Salem, two in New Kanan and five in Neigailong village). At New salem, construction of house at the foot of unconsolidated dumped material and failure of the same during incessant rainfall was found to be the cause of death. At New Kanan, construction of house in proximity of a nala exposing a very high vertical cut face is responsible for failure. The landslide at Neigailong village is the reactivation of an old landslide zone. Dumping of excavated loose soil within the old landslide zone during road construction coupled with the incessant heavy rainfall aggravated the slope instability.\\r\\n',\n",
              " 'Landslide incidence at Kikruma, Phek district, Nagaland (July, 2018)\\r\\n\\n\\n\\r\\nHeavy rainfall for one week during the last week of July, 2018 led to rising water level in the Sidzu river as well as saturation of the weak slope forming for the area around Kikruma village, leading to the initiation of a conspicuous debris slide. The landslide debris blocked the Sidzu river and led to formation of an artificial dam causing imminent threat to the habitations downstream.',\n",
              " 'Landslide incidence at New Heaven-Lamlang Gate section of Imphal-Ukhrul road, Ukhrul district, Manipur (July 2018)\\r\\n\\n\\n\\r\\nThe landslide along New Heaven-Lamlang Gate section of Old Imphal-Ukhrul road (24°59’34.4”N, 94°13’50.1”E) was blocked during the first week of July, 2018 (as per local residents) hindering traffic. ',\n",
              " 'Landslide incidence in Idukki district, Kerala (June & July, 2018)\\r\\n\\n\\n\\r\\nDuring the initial phase of onset of south-west monsoons, ten (10) landslides (on 9th June, 2018) were reported in different parts of Idukki district, Kerala which has damaged buildings, roads, agricultural land and disruption to traffic. Majority of the landslides occurred in the fringe slopes of rugged hills bordering the Munnar plateau of Western Ghats. ',\n",
              " 'Landslide incidence along Lumding–Badarpur Railway Line, Dima Hasao district, Assam (14 June, 2018) \\r\\n\\n\\n\\r\\nIncessant rainfall from 12th to 14th June, 2018 triggered landslides blocking the Lumding–Badarpur railway service in Dima Hasao district of Assam. A high 382 mm of rainfall was recorded on 14.06.2018 which triggered four landslides between 2:00 PM and 3:00 PM along the Lumding–Badarpur Railway Line. The Bandarkhal landslide, located between Bridge No. 305 and Tunnel No. 19 led to the suspension of railway service in the Lumding–Badarpur line for 03 consecutive days. ',\n",
              " 'Landslide incidence south of Leiting village along NH-102A Ukhrul district, Manipur (14th June 2018) \\r\\n\\n\\nOn 14th June, 2018, heavy rainfall triggered landslide at about 1.5 km south of Leiting Village damaging and blocking traffic along NH-102A.',\n",
              " '\\r\\nLandslide incidence on NH-37 at 5 km SSW of Kotlen, Noney district, Manipur (12th June 2018)\\r\\n\\n\\n\\r\\nOn 12th June 2018, heavy rainfall triggered a massive landslide along NH-37 about 5 km SSW of Kotlen (Lat: 24°47´28.7″N and Long: 93°44′8.4″E) and 12 nos of medium to small size landslides along the Highway.\\r\\n',\n",
              " 'Landslides along Madikeri-Makutta and Madikeri–Koyanad-Sulya road sections, Kodugu district, Karnataka (9 & 10 June, 2018)\\r\\n\\n\\n\\r\\nHeavy rainfall similar to cloud burst during the night of 9th and 10th  June, 2018  caused many landslides in Madikeri district.  A total 08 nos. of landslide sites along Madikeri-Makutta and Madikeri–Koyanad-Sulya road sections inflicted damage to road and blocked traffic.\\r\\n',\n",
              " 'Landslide incidence on NH-37, near Kotlen village, Noney district, Manipur (6th June 2018)\\r\\n\\n\\nThe landslide located at Lat. 24°46\\'54.10\"N and Long. 93°46\\'33.80\"E occurred on 6th June 2018 and caused reported blockage of the Imphal-Jiribam Road. The landslide is a reactivation of an old landslide that has occurred due to antecedent heavy rainfall.',\n",
              " '\\r\\nLandslide incidence at Lunglawn, Lunglei Town, Lunglei district, Mizoram (4th June 2018)\\r\\n\\n\\n\\r\\nThe Lunglawn landslide which occurred at 18:30 hrs on 4th June, 2018 led to loss of 10 lives. The landslide which got triggered by reported antecedent heavy rainfall received during the whole day destroyed and buried one pucca house along with its occupants. Immediate rescue operation by neighbors and one local NGO led to timely rescue of 4 persons out of the 14 members of two families residing in the buried house, while the other 10 could not be saved. \\r\\n',\n",
              " 'Landslide incidences in Kozhikode, Wayanad and Kannur districts, Kerela (June, 2018)\\r\\n\\n\\n\\r\\nDuring heavy downpour in the second week of June 2018, thirty six (36) landslide incidences were reported in various parts of northern Kerala (27 in Kozhikode, 8 in Wayanad and 1 in Kannur districts) with huge loss to lives and property. Kozhikode district is the worst affected among these three districts with respect to the number of landslide incidences, casualties and property loss. The Karinchola mala landslide in Kattipara Panchayat, Kozhikode District is the most devastating with 14 casualties besides huge property loss. ',\n",
              " 'Landslide incidences in Malappuam and Palakkad districts, Kerela (June, 2018)\\r\\n\\n\\n\\r\\nHeavy rainfall during south-west monsoon caused several landslides in different parts Malappuram and Palakkad district causing damages to property and infrastructure. In total thirteen (13) landslide incidences from Malappuram district [9nos] and Palakkad districts [4nos] were reported.',\n",
              " '\\r\\nLandslide incidence on Tuensang-Chessore-Shamatore road, Tuensang District, Nagaland (21st May 2018) \\r\\n\\n\\n\\r\\nThe site is located at Lat. 26°6\\'44.80\"N and Long. 94°45\\'24.30\"E falling in the SOI toposheet no. 83 J/16.\\r\\n',\n",
              " 'Landslide incidence in Hezamara and Bel Bari blocks of West Tripura district and Ompi block of Gomati district, Tripura (18th May, 2018)\\r\\n\\n\\n\\r\\nSubsequent to incessant heavy rainfall on 18th May 2018, a number of landslides were reported in different parts of Tripura resulting in the loss of six (06) lives and injuring several people in three different incidences in Hezamara and Bel Bari blocks of West Tripura district and in Ompi block of Gomati district. Post-disaster investigation of eight (08) landslide incidences in the two affected districts was carried out. ',\n",
              " '\\r\\nLandslide incidence at Sonapur, East Jaintia Hills District, Meghalaya (7th May 2018 )\\r\\n\\n\\n\\r\\nOn 7th May 2018 (01:00hrs), heavy rainfall triggered few landslides along NH-6 connecting Shillong with Barak Valley of Assam, Mizoram and Tripura which blocked 10m stretch of the important road corridor for more than 12 hours.\\r\\n',\n",
              " '\\r\\nLandslide incidence along NH-37, near Makru-bridge over Makru river, Tamenglong District, Manipur (3rd May 2018) \\r\\n\\n\\n\\r\\nOn 3rd May 2018 rainfall triggered landslide along NH-37, near Makru bridge along Imphal-Jiribam Highway damaging an approx. 205 m length of road.\\r\\n',\n",
              " '\\r\\nLandslide incidence at Kuwari village, Bageswar District, Uttarakhand (10th March 2018) \\r\\n\\n\\n\\r\\nOn 10th March 2018, heavy rainfall triggered massive rock slide (79⁰48ꞌ0.82ꞌꞌ, 30⁰04ꞌ58.24ꞌꞌ) on the hills slope NW of Kuwari village affecting 400 persons living in 106 houses located at the toe of the slide. Initially, slide occurred as huge rock slabs moved along slope direction and developed successive scars. The planar failure observed along the foliation joint/plane which strikes NW-SE dipping 45⁰ towards NE.\\r\\n',\n",
              " '',\n",
              " 'Landslide in Upper Gurpisey, South Sikkim (20 September 2017)\\r\\n\\n\\n\\r\\nA small debris slide occurred in Upper Gurpisey, Namchi, South Sikkim on 20.09.2017 at around 02.00 hrs. Tragedy struck due to torrential rainfall over the past 24 hours. The landslide caused loss of 03 human lives, injuries to 02 person and damages to properties.\\r\\n',\n",
              " 'Landslide on on NH-5 near Dhalli area, Shimla district, Himachal Pradesh (02 September 2017)\\r\\n\\n\\nHeavy monsoon rainfall triggered a massive rock slide (reactivated) on NH-5 near Dhalli area, Shimla district, Himachal Pradesh on 2nd September, 2017 which resulted complete damage of few parked vehicles, blockage and damage of National Highway and partial damage of a temple building. No casualties were reported due to the slide.',\n",
              " 'Landslide incidence at Kotrupi on National Highway-154, Padhar Tehsil, Mandi district, Himachal Pradesh (13 August 2017)\\r\\n\\n\\nOn 13 August 2017, a massive landslide took place at Kotrupi on National Highway-154, Padhar Tehsil, Mandi district, Himachal Pradesh. The landslide resulted into several casualties, which includes about  passengers of Chamba-Manali and Manali-Katra HRTC Buses.',\n",
              " 'Landslide at Hathi Parvat along Badrinath Yatra Route, Chamoli district,\\r\\nUttarakhand (19 May 2017)\\r\\n\\n\\nA landslide occurred in the afternoon of 19 May 2017 along Badrinath route on the National Highway-58 near Vishnuprayag, Chamoli district, Uttarakhand. The slide occurred on the southern slope of a ridge locally known as Hathi Parvat (30°33\\'48.4\" N, 79°34\\'08\" E). There was no report of any loss of lives/ injury and property. The landslide occurred about 10.5 km away from Joshimath town towards Badrinath on the right bank of the Alaknanda River, about 800 m downstream of Vishnuprayag',\n",
              " \"Kalikhola land subsidence, Kangpokpi district, Manipur (4 June 2017)\\n\\nThe Kalikhola village and adjoining slope (25° 08.661' N, 93°56.829' E) located on the left bank slope of Kalikhola River in the Kangpokpi District, Manipur was reported to have affected by ground subsidence, earth cracks and sinking of the land on 4 June 2017 onwards. A central team led by GSI visited the affected site from 13 to 15 June 2017. Blocking of the river course, damming, consequent ingression of the water in the down/ slide slope and rapid toe cutting form the high velocity released water might have triggered the initiation of the failure and movement of material downslope. The heavy rainfall prior to 4 June 2017 and sudden release of water from the temporary dam accelerated further saturation, rapid toe erosion and dragging of the upslope mass and formation of large gaping cracks.\",\n",
              " 'Landslide incidences in Guwahati, Assam (13 June 2017)\\n\\nHigh rainfall  measuring 68 mm in Khanapara, 73 mm in Rehabari and 69 mm in Gandhi Mandap areas during the period from 12 to 13 June 2017 have led to few landslides and collapse of boundary wall at several places in Guwahati city. Though there were no casualties on account of landslides, few buildings/houses were damaged in the hilly parts of the city...',\n",
              " 'Landslide incidence in Tharia village, Ri Bhoi District, Meghalaya (17 June 2017)\\n\\nHeavy monsoon rainfall triggered a landslide in Tharia village, Ri-Bhoi district, Meghalaya at 04:30 hrs on 17 June 2017 in which five persons were reported dead, which included two minors and three adults and five tin-roofed hutments were completely buried under the debris.',\n",
              " 'Landslide incidences in Kamrup (Metro) District, Assam (3 July 2017)\\n\\nIncessant monsoon rainfall triggered three landslides in two localities of Guwahati city; two landslides in Bonda colony and one in Panikhaiti. A seven year old girl was reported dead in the Panikhaiti-Bongoan landslide while one person got seriously injured, five persons displaced and one Kaccha house buried in the slide debris. Two landslides in Bonda colony is reported to have caused damaged to property and retaining structures.',\n",
              " 'Landslide incidences along NH-29 (Kiruphema) and Kohima city, Kohima district, Nagaland (9 July 2017)\\n\\nA massive debris slide occurred on 9 July 2017 at Kiruphema along the NH-29. The debris slide, covering an approx. area of 1.65 sq.kms, subsequently progressed into a debris flow with the run-out distance greater than 1 km. In yet another incident, a massive landslide occurred during the night of 11 July 2017 at Peraciezie colony, near High School Junction, Kohima city destroyed 21 houses and cut down arterial roads within the colony.\\n',\n",
              " '  Landslide incidence in Machong, East district, Sikkim (10 July 2017)\\n\\nIncessant monsoon rainfall triggered a devastating landslide near Machong village, Pachey town along Pakyong-Machong road in East district, Sikkim. The failure was initiated at around 14.00 hrs on 09 July2017 which became active and failed at around 8.30 hrs on 10 July 2017. The landslide swept away five buildings, breached the water supply line to Nopgaon and Pakyong town and washed away a portion of the Pakyong-Machong road.\\r\\n\\n',\n",
              " 'Subsidence in Ukhrul and Kangpokpi districts, Manipur (July, 2017)\\n\\nGround subsidence at Haijang village, Kangpokpi district which reportedly occurred during the first week of July led to the development of cracks in the UJB school classrooms, Haijang. Subsequent shifting and relocation of the school children to a temporary school was carried out. Another ground subsidence occurred at Maphou Kuki village, Ukhrul district, wherein initial cracks started to appear on 31 May 2017 with subsequent widening of cracks from 11 July onwards.',\n",
              " 'Landslide incidence in Laptap village, Papum Pare District, Arunachal Pradesh (11 July 2017)\\n\\nHeavy monsoon rainfall triggered a massive landslide at Laptap village, Papum Pare district, Arunachal Pradesh at 14:30 hrs on 11 July, 2017. Several residential dwellings situated along the run-out path of the landslide were washed-off and submerged in the debris. As a result, 14 people were reported buried alive and also caused huge loss to property, agricultural land, etc.\\r\\n\\n',\n",
              " '',\n",
              " 'Landslide incidence in Sikkim - 14 January 2016\\n\\nA rock fall occurred along national highway NH- 10 (27° 09&apos 52.2\": 88° 31&apos 56.3\") near Bhoteybhir village, Sikkim on 14/01/2016 at about 05-05.30 hrs. The rock fall zone is still active and occurs as a result of road cutting in a dry time. GSI has carried out the preliminary investigation of the landslide and prepared detailed inventory.\\r\\n\\n',\n",
              " '  Landslide incidence in Karimgang and Hilakandi Districts, Assam (18th May 2016)\\n\\nIncessant and concentrated pre-monsoon precipitation lasting for nearly 10 days has triggered 31 landslide incidences between 22nd and 23rd April 2016, in and around Tawang town, Arunachal Pradesh. This disastrous event has killed 18 persons and has also caused severe damage to property, cattle, substantial amount of agricultural land & crop, culverts and various vital road-stretches.\\n',\n",
              " 'Landslide incidence in Tawang, Arunachal Pradesh (22-23 April 2016)\\n\\nIncessant and concentrated rainfall triggered four devastating landslide incidences in Assam on 18th May, 2016 which took away 11 precious lives and caused severe damage to property, cattle, agricultural land and road-stretches. Out of the four landslides, one occurred at Rakhalbasti area in Sonaicherra Tea Garden in Karimgang district, killing five persons and other three landslides occurred at three different locations in nearby Hilakandi district of Assam.\\n',\n",
              " 'Landslide incidence in Tawang, Arunachal Pradesh (22-23 April 2016)\\n\\nIncessant and concentrated rainfall triggered four devastating landslide incidences in Assam on 18th May, 2016 which took away 11 precious lives and caused severe damage to property, cattle, agricultural land and road-stretches. Out of the four landslides, one occurred at Rakhalbasti area in Sonaicherra Tea Garden in Karimgang district, killing five persons and other three landslides occurred at three different locations in nearby Hilakandi district of Assam.\\n']"
            ]
          },
          "metadata": {
            "tags": []
          },
          "execution_count": 12
        }
      ]
    },
    {
      "cell_type": "code",
      "metadata": {
        "id": "s0nCYkEk8ri4",
        "colab": {
          "base_uri": "https://localhost:8080/"
        },
        "outputId": "e44b076b-424d-4f52-8918-d7855f028684"
      },
      "source": [
        "type(list_)"
      ],
      "execution_count": null,
      "outputs": [
        {
          "output_type": "execute_result",
          "data": {
            "text/plain": [
              "list"
            ]
          },
          "metadata": {
            "tags": []
          },
          "execution_count": 13
        }
      ]
    },
    {
      "cell_type": "code",
      "metadata": {
        "colab": {
          "base_uri": "https://localhost:8080/",
          "height": 424
        },
        "id": "tjA_UZquHe7l",
        "outputId": "197cea0a-279d-4920-e68e-a99fac58c0c4"
      },
      "source": [
        "import pandas as pd\n",
        "df = pd.DataFrame(list_)\n",
        "df"
      ],
      "execution_count": null,
      "outputs": [
        {
          "output_type": "execute_result",
          "data": {
            "text/html": [
              "<div>\n",
              "<style scoped>\n",
              "    .dataframe tbody tr th:only-of-type {\n",
              "        vertical-align: middle;\n",
              "    }\n",
              "\n",
              "    .dataframe tbody tr th {\n",
              "        vertical-align: top;\n",
              "    }\n",
              "\n",
              "    .dataframe thead th {\n",
              "        text-align: right;\n",
              "    }\n",
              "</style>\n",
              "<table border=\"1\" class=\"dataframe\">\n",
              "  <thead>\n",
              "    <tr style=\"text-align: right;\">\n",
              "      <th></th>\n",
              "      <th>0</th>\n",
              "    </tr>\n",
              "  </thead>\n",
              "  <tbody>\n",
              "    <tr>\n",
              "      <th>0</th>\n",
              "      <td></td>\n",
              "    </tr>\n",
              "    <tr>\n",
              "      <th>1</th>\n",
              "      <td>Landslide at TNEB Colony, Emerald, Nilgiri Dis...</td>\n",
              "    </tr>\n",
              "    <tr>\n",
              "      <th>2</th>\n",
              "      <td>Landslide at Talacauvery, Bhagamandala, Kodagu...</td>\n",
              "    </tr>\n",
              "    <tr>\n",
              "      <th>3</th>\n",
              "      <td>Landslide at Pettimudi, near Munnar, Idukki Di...</td>\n",
              "    </tr>\n",
              "    <tr>\n",
              "      <th>4</th>\n",
              "      <td>Landslide in and around Longmai-Khumji Noney A...</td>\n",
              "    </tr>\n",
              "    <tr>\n",
              "      <th>...</th>\n",
              "      <td>...</td>\n",
              "    </tr>\n",
              "    <tr>\n",
              "      <th>64</th>\n",
              "      <td></td>\n",
              "    </tr>\n",
              "    <tr>\n",
              "      <th>65</th>\n",
              "      <td>Landslide incidence in Sikkim - 14 January 201...</td>\n",
              "    </tr>\n",
              "    <tr>\n",
              "      <th>66</th>\n",
              "      <td>Landslide incidence in Karimgang and Hilakan...</td>\n",
              "    </tr>\n",
              "    <tr>\n",
              "      <th>67</th>\n",
              "      <td>Landslide incidence in Tawang, Arunachal Prade...</td>\n",
              "    </tr>\n",
              "    <tr>\n",
              "      <th>68</th>\n",
              "      <td>Landslide incidence in Tawang, Arunachal Prade...</td>\n",
              "    </tr>\n",
              "  </tbody>\n",
              "</table>\n",
              "<p>69 rows × 1 columns</p>\n",
              "</div>"
            ],
            "text/plain": [
              "                                                    0\n",
              "0                                                    \n",
              "1   Landslide at TNEB Colony, Emerald, Nilgiri Dis...\n",
              "2   Landslide at Talacauvery, Bhagamandala, Kodagu...\n",
              "3   Landslide at Pettimudi, near Munnar, Idukki Di...\n",
              "4   Landslide in and around Longmai-Khumji Noney A...\n",
              "..                                                ...\n",
              "64                                                   \n",
              "65  Landslide incidence in Sikkim - 14 January 201...\n",
              "66    Landslide incidence in Karimgang and Hilakan...\n",
              "67  Landslide incidence in Tawang, Arunachal Prade...\n",
              "68  Landslide incidence in Tawang, Arunachal Prade...\n",
              "\n",
              "[69 rows x 1 columns]"
            ]
          },
          "metadata": {
            "tags": []
          },
          "execution_count": 17
        }
      ]
    },
    {
      "cell_type": "code",
      "metadata": {
        "colab": {
          "base_uri": "https://localhost:8080/",
          "height": 206
        },
        "id": "46Kqu12rHnRu",
        "outputId": "8680f2c2-586a-4d07-fdc6-c88c4796f404"
      },
      "source": [
        "df.columns = ['Description']\n",
        "df.head(5)"
      ],
      "execution_count": null,
      "outputs": [
        {
          "output_type": "execute_result",
          "data": {
            "text/html": [
              "<div>\n",
              "<style scoped>\n",
              "    .dataframe tbody tr th:only-of-type {\n",
              "        vertical-align: middle;\n",
              "    }\n",
              "\n",
              "    .dataframe tbody tr th {\n",
              "        vertical-align: top;\n",
              "    }\n",
              "\n",
              "    .dataframe thead th {\n",
              "        text-align: right;\n",
              "    }\n",
              "</style>\n",
              "<table border=\"1\" class=\"dataframe\">\n",
              "  <thead>\n",
              "    <tr style=\"text-align: right;\">\n",
              "      <th></th>\n",
              "      <th>Description</th>\n",
              "    </tr>\n",
              "  </thead>\n",
              "  <tbody>\n",
              "    <tr>\n",
              "      <th>0</th>\n",
              "      <td></td>\n",
              "    </tr>\n",
              "    <tr>\n",
              "      <th>1</th>\n",
              "      <td>Landslide at TNEB Colony, Emerald, Nilgiri Dis...</td>\n",
              "    </tr>\n",
              "    <tr>\n",
              "      <th>2</th>\n",
              "      <td>Landslide at Talacauvery, Bhagamandala, Kodagu...</td>\n",
              "    </tr>\n",
              "    <tr>\n",
              "      <th>3</th>\n",
              "      <td>Landslide at Pettimudi, near Munnar, Idukki Di...</td>\n",
              "    </tr>\n",
              "    <tr>\n",
              "      <th>4</th>\n",
              "      <td>Landslide in and around Longmai-Khumji Noney A...</td>\n",
              "    </tr>\n",
              "  </tbody>\n",
              "</table>\n",
              "</div>"
            ],
            "text/plain": [
              "                                         Description\n",
              "0                                                   \n",
              "1  Landslide at TNEB Colony, Emerald, Nilgiri Dis...\n",
              "2  Landslide at Talacauvery, Bhagamandala, Kodagu...\n",
              "3  Landslide at Pettimudi, near Munnar, Idukki Di...\n",
              "4  Landslide in and around Longmai-Khumji Noney A..."
            ]
          },
          "metadata": {
            "tags": []
          },
          "execution_count": 18
        }
      ]
    },
    {
      "cell_type": "code",
      "metadata": {
        "id": "h6x3upqQ1hJA"
      },
      "source": [
        "# Saving description table in a dataframe\n",
        "df.to_csv('2016-2020 scrapped data.csv')"
      ],
      "execution_count": null,
      "outputs": []
    }
  ]
}